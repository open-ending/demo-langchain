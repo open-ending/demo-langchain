{
 "cells": [
  {
   "cell_type": "markdown",
   "metadata": {},
   "source": [
    "## 1. 加载文本物料"
   ]
  },
  {
   "cell_type": "code",
   "execution_count": 23,
   "metadata": {},
   "outputs": [
    {
     "name": "stdout",
     "output_type": "stream",
     "text": [
      "晴明平日里过着平凡而无趣的生活。他住在大渊朝代的一个小村庄中，村庄四周是郁郁葱葱的山林。每天，晴明都会在村庄中忙碌，帮助父母务农。他渴望着一种特殊的能力，希望能够改变自己的命运。\n",
      "\n",
      "一天，晴明独自来到山林中，他沿着小径走着，感受着清新的空气和绿意盎然的景色。突然，他听到了一阵古老的琴音，清澈而动听。他顺着琴音的方向走去，发现了一个隐蔽的山洞。\n",
      "\n",
      "晴明好奇地走进山洞，只见洞内照亮着一盏明亮的灯笼。在灯光下，他看到了一个神秘的老者，他的背影高大而威严，长发披肩，一袭白袍飘逸如云。老者正在弹奏着一把古琴。\n",
      "\n",
      "晴明心中一动，他感觉到这个老者与他的命运息息相关。他走近老者，谨慎地问道：“尊敬的前辈，我是晴明，有何指教？”\n",
      "\n",
      "老者停下了琴音，转过身来，目光深邃地看着晴明。他微笑着说道：“晴明，你注定要成为伟大的仙侠，拥有无与伦比的力量。我是来指引你的。”\n",
      "\n",
      "晴明瞪大了眼睛，难以置信地看着老者。他心中涌起一股激动和希望，终于有机会改变自己的命运了。\n",
      "\n",
      "晴明虽然兴奋，但还是有些怀疑，他问老者如何证明自己的身份。他想要确保这位神秘老者是真正的指引者，而不是骗子。\n",
      "\n",
      "老者微笑着点了点头，从袖子里取出一枚闪\n"
     ]
    }
   ],
   "source": [
    "from langchain_community.document_loaders import TextLoader\n",
    "\n",
    "loader = TextLoader(\"./data/stories.txt\")\n",
    "docs = loader.load()\n",
    "print(docs[0].page_content[:500])"
   ]
  },
  {
   "cell_type": "markdown",
   "metadata": {},
   "source": [
    "## 2. 文本预处理（文本拆分）"
   ]
  },
  {
   "cell_type": "code",
   "execution_count": 24,
   "metadata": {},
   "outputs": [
    {
     "data": {
      "text/plain": [
       "2"
      ]
     },
     "execution_count": 24,
     "metadata": {},
     "output_type": "execute_result"
    }
   ],
   "source": [
    "from langchain_text_splitters import RecursiveCharacterTextSplitter\n",
    "\n",
    "text_splitter = RecursiveCharacterTextSplitter(\n",
    "    chunk_size=1000, chunk_overlap=200, add_start_index=True\n",
    ")\n",
    "all_splits = text_splitter.split_documents(docs)\n",
    "len(all_splits)"
   ]
  },
  {
   "cell_type": "code",
   "execution_count": 25,
   "metadata": {},
   "outputs": [
    {
     "data": {
      "text/plain": [
       "989"
      ]
     },
     "execution_count": 25,
     "metadata": {},
     "output_type": "execute_result"
    }
   ],
   "source": [
    "len(all_splits[0].page_content)"
   ]
  },
  {
   "cell_type": "markdown",
   "metadata": {},
   "source": [
    "## 3. 索引存储"
   ]
  },
  {
   "cell_type": "code",
   "execution_count": 26,
   "metadata": {},
   "outputs": [],
   "source": [
    "import os\n",
    "from langchain_chroma import Chroma\n",
    "from langchain_openai import OpenAIEmbeddings\n",
    "\n",
    "vectorstore = Chroma.from_documents(documents=all_splits, embedding=OpenAIEmbeddings(), persist_directory=\"./chroma_persist\", collection_name=\"qingming\")"
   ]
  },
  {
   "cell_type": "markdown",
   "metadata": {},
   "source": [
    "## 4. 检索"
   ]
  },
  {
   "cell_type": "code",
   "execution_count": 27,
   "metadata": {},
   "outputs": [
    {
     "name": "stdout",
     "output_type": "stream",
     "text": [
      "晴明平日里过着平凡而无趣的生活。他住在大渊朝代的一个小村庄中，村庄四周是郁郁葱葱的山林。每天，晴明都会在村庄中忙碌，帮助父母务农。他渴望着一种特殊的能力，希望能够改变自己的命运。\n",
      "\n",
      "一天，晴明独自来到山林中，他沿着小径走着，感受着清新的空气和绿意盎然的景色。突然，他听到了一阵古老的琴音，清澈而动听。他顺着琴音的方向走去，发现了一个隐蔽的山洞。\n",
      "\n",
      "晴明好奇地走进山洞，只见洞内照亮着一盏明亮的灯笼。在灯光下，他看到了一个神秘的老者，他的背影高大而威严，长发披肩，一袭白袍飘逸如云。老者正在弹奏着一把古琴。\n",
      "\n",
      "晴明心中一动，他感觉到这个老者与他的命运息息相关。他走近老者，谨慎地问道：“尊敬的前辈，我是晴明，有何指教？”\n",
      "\n",
      "老者停下了琴音，转过身来，目光深邃地看着晴明。他微笑着说道：“晴明，你注定要成为伟大的仙侠，拥有无与伦比的力量。我是来指引你的。”\n",
      "\n",
      "晴明瞪大了眼睛，难以置信地看着老者。他心中涌起一股激动和希望，终于有机会改变自己的命运了。\n",
      "\n",
      "晴明虽然兴奋，但还是有些怀疑，他问老者如何证明自己的身份。他想要确保这位神秘老者是真正的指引者，而不是骗子。\n",
      "\n",
      "老者微笑着点了点头，从袖子里取出一枚闪烁着光芒的玉佩，递给了晴明。晴明接过玉佩，只觉得手心一热，一股温暖的能量传遍全身。\n",
      "\n",
      "老者解释道：“这是我家族的传家宝，只有真正的仙侠才能感应到它的力量。晴明，你手中的玉佩已经与你的命运紧密相连。”\n",
      "\n",
      "晴明感到心中的怀疑渐渐消散，他看着手中的玉佩，感受到了一种前所未有的亲近感。他知道，这是他与仙侠的联系。\n",
      "\n",
      "晴明决定相信老者，他迫不及待地询问如何获得仙侠的力量。他渴望改变自己平凡的生活，成为一个真正的仙侠。\n",
      "\n",
      "老者微笑着说道：“获得仙侠的力量并非易事，需要经历一系列的考验。首先，你需要前往大渊山脉中的仙境，寻找神秘的仙灵。只有得到仙灵的认可，你才能获得真正的仙侠之力。”\n",
      "\n",
      "晴明听得津津有味，他迫不及待地问道：“请问，如何前往大渊山脉？”\n",
      "\n",
      "老者指着远方的山脉说道：“大渊山脉位于东方，你需要穿过茫茫的森林和险峻的山峦，一路上会有各种危险和考验。但只有经历了这些，你才能成为真正的仙侠。”\n",
      "\n",
      "晴明心中燃起了一股决心，他知道这是他改变命运的机会。他向老者鞠了一躬，表示感激和决心。\n",
      "\n",
      "晴明决定立即启程，向大渊山脉出发。他感受到内心的激动和决心，准备面对即将到来的危险和考验。\n"
     ]
    }
   ],
   "source": [
    "retriever = vectorstore.as_retriever(search_type=\"similarity\", search_kwargs={\"k\": 2})\n",
    "retrieved_docs = retriever.invoke(\"晴明在山洞里遇到了谁?\")\n",
    "len(retrieved_docs)\n",
    "print(retrieved_docs[0].page_content)"
   ]
  },
  {
   "cell_type": "markdown",
   "metadata": {},
   "source": [
    "## 5. 生成答案"
   ]
  },
  {
   "cell_type": "code",
   "execution_count": 28,
   "metadata": {},
   "outputs": [],
   "source": [
    "from langchain_openai import ChatOpenAI\n",
    "llm = ChatOpenAI(model=\"gpt-3.5-turbo-0125\")"
   ]
  },
  {
   "cell_type": "code",
   "execution_count": 29,
   "metadata": {},
   "outputs": [],
   "source": [
    "from langchain import hub\n",
    "from langchain_core.prompts import PromptTemplate\n",
    "\n",
    "template = \"\"\"使用以下上下文来回答最后的问题。\n",
    "如果你不知道答案，就说你不知道，不要试图编造答案。\n",
    "最多使用三句话，并尽可能简洁地回答。\n",
    "在答案的最后一定要说“谢谢询问！”。\n",
    "\n",
    "{context}\n",
    "\n",
    "问题: {question}\n",
    "\n",
    "答案:\"\"\"\n",
    "custom_rag_prompt = PromptTemplate.from_template(template)"
   ]
  },
  {
   "cell_type": "code",
   "execution_count": 30,
   "metadata": {},
   "outputs": [],
   "source": [
    "from langchain_core.output_parsers import StrOutputParser\n",
    "from langchain_core.runnables import RunnablePassthrough\n",
    "\n",
    "\n",
    "def format_docs(docs):\n",
    "    return \"\\n\\n\".join(doc.page_content for doc in docs)\n",
    "\n",
    "\n",
    "rag_chain = (\n",
    "    {\"context\": retriever | format_docs, \"question\": RunnablePassthrough()}\n",
    "    | custom_rag_prompt\n",
    "    | llm\n",
    "    | StrOutputParser()\n",
    ")"
   ]
  },
  {
   "cell_type": "code",
   "execution_count": 31,
   "metadata": {},
   "outputs": [
    {
     "name": "stdout",
     "output_type": "stream",
     "text": [
      "晴明在山洞里遇到了一个神秘的老者。谢谢询问！"
     ]
    }
   ],
   "source": [
    "for chunk in rag_chain.stream(\"晴明在山洞里遇到了谁??\"):\n",
    "    print(chunk, end=\"\", flush=True)"
   ]
  },
  {
   "cell_type": "markdown",
   "metadata": {},
   "source": [
    "## 6. 追加和更新矢量库内容"
   ]
  },
  {
   "cell_type": "code",
   "execution_count": 32,
   "metadata": {},
   "outputs": [],
   "source": [
    "\n",
    "loader = TextLoader(\"./data/append-stories.txt\")\n",
    "docs = loader.load()\n",
    "\n",
    "text_splitter = RecursiveCharacterTextSplitter(\n",
    "    chunk_size=1000, chunk_overlap=200, add_start_index=True\n",
    ")\n",
    "all_splits = text_splitter.split_documents(docs)\n",
    "vectorstore = Chroma.from_documents(documents=all_splits, embedding=OpenAIEmbeddings(), persist_directory=\"./chroma_persist\", collection_name=\"qingming\")\n",
    "retriever = vectorstore.as_retriever(search_type=\"similarity\", search_kwargs={\"k\": 2})\n",
    "rag_chain = (\n",
    "    {\"context\": retriever | format_docs, \"question\": RunnablePassthrough()}\n",
    "    | custom_rag_prompt\n",
    "    | llm\n",
    "    | StrOutputParser()\n",
    ")"
   ]
  },
  {
   "cell_type": "code",
   "execution_count": 33,
   "metadata": {},
   "outputs": [
    {
     "name": "stdout",
     "output_type": "stream",
     "text": [
      "晴明在山洞里遇到了一个神秘的老者。谢谢询问！"
     ]
    }
   ],
   "source": [
    "for chunk in rag_chain.stream(\"晴明在山洞里遇到了谁?\"):\n",
    "    print(chunk, end=\"\", flush=True)"
   ]
  },
  {
   "cell_type": "code",
   "execution_count": 34,
   "metadata": {},
   "outputs": [
    {
     "name": "stdout",
     "output_type": "stream",
     "text": [
      "晴明在仙境中破解了石壁上的密码，通过了第一道试炼，接着前往山顶继续接受考验。谢谢询问！"
     ]
    }
   ],
   "source": [
    "for chunk in rag_chain.stream(\"晴明在仙境中遇到了什么经历?\"):\n",
    "    print(chunk, end=\"\", flush=True)"
   ]
  },
  {
   "cell_type": "markdown",
   "metadata": {},
   "source": [
    "## 附录"
   ]
  },
  {
   "cell_type": "markdown",
   "metadata": {},
   "source": [
    "更多 langchain-chroma 说明，见[官方文档](https://python.langchain.com/v0.1/docs/integrations/vectorstores/chroma/#)"
   ]
  }
 ],
 "metadata": {
  "kernelspec": {
   "display_name": "langchain-demo-DSKCjgwT",
   "language": "python",
   "name": "python3"
  },
  "language_info": {
   "codemirror_mode": {
    "name": "ipython",
    "version": 3
   },
   "file_extension": ".py",
   "mimetype": "text/x-python",
   "name": "python",
   "nbconvert_exporter": "python",
   "pygments_lexer": "ipython3",
   "version": "3.11.6"
  }
 },
 "nbformat": 4,
 "nbformat_minor": 2
}
